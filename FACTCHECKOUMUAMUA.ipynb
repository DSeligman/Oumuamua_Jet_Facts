{
 "cells": [
  {
   "cell_type": "code",
   "execution_count": 1,
   "metadata": {
    "collapsed": true
   },
   "outputs": [],
   "source": [
    "import numpy as np"
   ]
  },
  {
   "cell_type": "code",
   "execution_count": 7,
   "metadata": {
    "collapsed": false
   },
   "outputs": [
    {
     "name": "stdout",
     "output_type": "stream",
     "text": [
      "Non Gravitational Acceleration quoted from Micheli is 4.92e-06 m/s/s or 0.000492 cm/s/s\n",
      "Non Gravitational Acceleration at 1.4AU 2.51020408163e-06 m/s/s or 0.000251020408163 cm/s/s\n"
     ]
    }
   ],
   "source": [
    "#from Micheli paper\n",
    "#r A1=(4.92±0.16) × 10−6m s−2\n",
    "\n",
    "Ang = 4.92e-6 #m/s\n",
    "Ang_whenobserved = Ang /(1.4)**2\n",
    "print \"Non Gravitational Acceleration quoted from Micheli is\" ,Ang , \"m/s/s or\", Ang*100., \"cm/s/s\"\n",
    "print \"Non Gravitational Acceleration at 1.4AU\" ,Ang_whenobserved , \"m/s/s or\", Ang_whenobserved*100., \"cm/s/s\"\n",
    "\n",
    "\n",
    "\n"
   ]
  },
  {
   "cell_type": "code",
   "execution_count": 10,
   "metadata": {
    "collapsed": false
   },
   "outputs": [
    {
     "name": "stdout",
     "output_type": "stream",
     "text": [
      "Semi Major Axis is 263.696444768 cm\n"
     ]
    }
   ],
   "source": [
    "#now calculate the size scale\n",
    "\n",
    "P = 8. *60.*60.# periodin seconds\n",
    "a = P*P*5.*Ang_whenobserved/4./np.pi/np.pi\n",
    "print \"Semi Major Axis is\", a ,\"cm\""
   ]
  },
  {
   "cell_type": "code",
   "execution_count": null,
   "metadata": {
    "collapsed": true
   },
   "outputs": [],
   "source": [
    "#size scale based on brightness?\n",
    "#albedo\n",
    "p=0.1"
   ]
  },
  {
   "cell_type": "code",
   "execution_count": 27,
   "metadata": {
    "collapsed": false
   },
   "outputs": [
    {
     "name": "stdout",
     "output_type": "stream",
     "text": [
      "Mass = 1e+12 grams\n",
      "Velocity of jet is 50000.0 cm/s\n",
      "mdot = 98.4\n",
      "mass loss over  100.0 days is 850176000.0 gramss\n",
      "which is 0.000850176 fraction of total mass\n",
      "which is 0.0850176 %percent of total mass\n"
     ]
    }
   ],
   "source": [
    "#jet calculation\n",
    "vjet=5.e4 #cm/s/s\n",
    "M = 1.e12# grams \n",
    "print \"Mass =\", M , \"grams\"\n",
    "print \"Velocity of jet is\" , vjet , \"cm/s\"\n",
    "mdot = Ang_whenobserved*M/vjet\n",
    "mdot = Ang*M/vjet\n",
    "\n",
    "print \"mdot =\" ,mdot #grams/second\n",
    "\n",
    "tauday=100.\n",
    "tausec = tauday*60.*60.*24.\n",
    "print \"mass loss over \", tauday , \"days is\", mdot*tausec ,\"gramss\"\n",
    "print \"which is\", mdot*tausec/M , \"fraction of total mass\"\n",
    "print \"which is\", mdot*tausec/M *100., \"%percent of total mass\"\n"
   ]
  },
  {
   "cell_type": "code",
   "execution_count": null,
   "metadata": {
    "collapsed": true
   },
   "outputs": [],
   "source": []
  }
 ],
 "metadata": {
  "kernelspec": {
   "display_name": "Python 2",
   "language": "python",
   "name": "python2"
  },
  "language_info": {
   "codemirror_mode": {
    "name": "ipython",
    "version": 2
   },
   "file_extension": ".py",
   "mimetype": "text/x-python",
   "name": "python",
   "nbconvert_exporter": "python",
   "pygments_lexer": "ipython2",
   "version": "2.7.11"
  }
 },
 "nbformat": 4,
 "nbformat_minor": 0
}
